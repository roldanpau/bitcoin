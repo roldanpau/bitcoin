{
  "nbformat": 4,
  "nbformat_minor": 0,
  "metadata": {
    "kernelspec": {
      "display_name": "Python 3",
      "language": "python",
      "name": "python3"
    },
    "language_info": {
      "codemirror_mode": {
        "name": "ipython",
        "version": 3
      },
      "file_extension": ".py",
      "mimetype": "text/x-python",
      "name": "python",
      "nbconvert_exporter": "python",
      "pygments_lexer": "ipython3",
      "version": "3.7.6"
    },
    "papermill": {
      "duration": 133.021573,
      "end_time": "2021-01-17T19:16:22.875936",
      "environment_variables": {},
      "exception": null,
      "input_path": "__notebook__.ipynb",
      "output_path": "__notebook__.ipynb",
      "parameters": {},
      "start_time": "2021-01-17T19:14:09.854363",
      "version": "2.1.0"
    },
    "colab": {
      "name": "bitcoin.ipynb",
      "provenance": [],
      "toc_visible": true
    }
  },
  "cells": [
    {
      "cell_type": "code",
      "metadata": {
        "_cell_guid": "b1076dfc-b9ad-4769-8c92-a6c4dae69d19",
        "_uuid": "8f2839f25d086af736a60e9eeb907d3b93b6e0e5",
        "execution": {
          "iopub.execute_input": "2021-01-17T19:14:14.703125Z",
          "iopub.status.busy": "2021-01-17T19:14:14.702006Z",
          "iopub.status.idle": "2021-01-17T19:14:14.708274Z",
          "shell.execute_reply": "2021-01-17T19:14:14.708809Z"
        },
        "papermill": {
          "duration": 0.03165,
          "end_time": "2021-01-17T19:14:14.708983",
          "exception": false,
          "start_time": "2021-01-17T19:14:14.677333",
          "status": "completed"
        },
        "tags": [],
        "id": "Vc0x1d9ge35O"
      },
      "source": [
        "import numpy as np # linear algebra\n",
        "import pandas as pd # data processing, CSV file I/O (e.g. pd.read_csv)\n",
        "from datetime import datetime\n",
        "\n",
        "import matplotlib.pyplot as plt\n",
        "plt.style.use('seaborn-darkgrid')"
      ],
      "execution_count": 1,
      "outputs": []
    },
    {
      "cell_type": "markdown",
      "metadata": {
        "papermill": {
          "duration": 0.020921,
          "end_time": "2021-01-17T19:14:14.751921",
          "exception": false,
          "start_time": "2021-01-17T19:14:14.731000",
          "status": "completed"
        },
        "tags": [],
        "id": "hp8rM4Dfe35f"
      },
      "source": [
        "## Glimpse Data"
      ]
    },
    {
      "cell_type": "markdown",
      "metadata": {
        "papermill": {
          "duration": 0.019995,
          "end_time": "2021-01-17T19:14:14.793113",
          "exception": false,
          "start_time": "2021-01-17T19:14:14.773118",
          "status": "completed"
        },
        "tags": [],
        "id": "uTCFGYoRe35g"
      },
      "source": [
        "Read data"
      ]
    },
    {
      "cell_type": "code",
      "metadata": {
        "colab": {
          "base_uri": "https://localhost:8080/"
        },
        "id": "iJfRCstZhScx",
        "outputId": "38f4c848-bafd-4ac2-a0eb-ff8e2613c5c3"
      },
      "source": [
        "from google.colab import drive \n",
        "drive.mount('/content/gdrive')"
      ],
      "execution_count": 3,
      "outputs": [
        {
          "output_type": "stream",
          "text": [
            "Mounted at /content/gdrive\n"
          ],
          "name": "stdout"
        }
      ]
    },
    {
      "cell_type": "code",
      "metadata": {
        "_cell_guid": "79c7e3d0-c299-4dcb-8224-4455121ee9b0",
        "_uuid": "d629ff2d2480ee46fbb7e2d37f6b5fab8052498a",
        "execution": {
          "iopub.execute_input": "2021-01-17T19:14:14.838383Z",
          "iopub.status.busy": "2021-01-17T19:14:14.837677Z",
          "iopub.status.idle": "2021-01-17T19:14:30.782697Z",
          "shell.execute_reply": "2021-01-17T19:14:30.781863Z"
        },
        "papermill": {
          "duration": 15.968449,
          "end_time": "2021-01-17T19:14:30.782819",
          "exception": false,
          "start_time": "2021-01-17T19:14:14.814370",
          "status": "completed"
        },
        "tags": [],
        "id": "-slcP0hOe35i"
      },
      "source": [
        "btc = pd.read_csv('/content/gdrive/MyDrive/research/bitcoin/bitstampUSD_1-min_data_2012-01-01_to_2020-12-31.csv')\n",
        "# Converting the Timestamp column from string to datetime\n",
        "btc['Timestamp'] = [datetime.fromtimestamp(x) for x in btc['Timestamp']]\n",
        "btc = btc.set_index('Timestamp')"
      ],
      "execution_count": 4,
      "outputs": []
    },
    {
      "cell_type": "markdown",
      "metadata": {
        "papermill": {
          "duration": 0.021216,
          "end_time": "2021-01-17T19:14:30.824819",
          "exception": false,
          "start_time": "2021-01-17T19:14:30.803603",
          "status": "completed"
        },
        "tags": [],
        "id": "zWOEfnV-e35j"
      },
      "source": [
        "#### Time resampling"
      ]
    },
    {
      "cell_type": "code",
      "metadata": {
        "execution": {
          "iopub.execute_input": "2021-01-17T19:14:30.872374Z",
          "iopub.status.busy": "2021-01-17T19:14:30.871608Z",
          "iopub.status.idle": "2021-01-17T19:14:31.071358Z",
          "shell.execute_reply": "2021-01-17T19:14:31.070602Z"
        },
        "papermill": {
          "duration": 0.225148,
          "end_time": "2021-01-17T19:14:31.071529",
          "exception": false,
          "start_time": "2021-01-17T19:14:30.846381",
          "status": "completed"
        },
        "tags": [],
        "id": "SWn3BLTXe35k"
      },
      "source": [
        "btc_daily = btc.resample(\"24H\").mean() #daily resampling"
      ],
      "execution_count": 5,
      "outputs": []
    },
    {
      "cell_type": "code",
      "metadata": {
        "execution": {
          "iopub.execute_input": "2021-01-17T19:14:32.331377Z",
          "iopub.status.busy": "2021-01-17T19:14:32.330701Z",
          "iopub.status.idle": "2021-01-17T19:14:32.355911Z",
          "shell.execute_reply": "2021-01-17T19:14:32.356733Z"
        },
        "papermill": {
          "duration": 0.050135,
          "end_time": "2021-01-17T19:14:32.356979",
          "exception": false,
          "start_time": "2021-01-17T19:14:32.306844",
          "status": "completed"
        },
        "tags": [],
        "colab": {
          "base_uri": "https://localhost:8080/"
        },
        "id": "zKmi9fqKe35n",
        "outputId": "3c28130f-ff72-4855-80a2-52f3647a1eea"
      },
      "source": [
        "def fill_missing(df):\n",
        "    ### function to impute missing values using interpolation ###\n",
        "    df['Open'] = df['Open'].interpolate()\n",
        "    df['Close'] = df['Close'].interpolate()\n",
        "    df['Weighted_Price'] = df['Weighted_Price'].interpolate()\n",
        "    df['Volume_(BTC)'] = df['Volume_(BTC)'].interpolate()\n",
        "    df['Volume_(Currency)'] = df['Volume_(Currency)'].interpolate()\n",
        "    df['High'] = df['High'].interpolate()\n",
        "    df['Low'] = df['Low'].interpolate()\n",
        "    print(df.head())\n",
        "    print(df.isnull().sum())\n",
        "    \n",
        "fill_missing(btc_daily)"
      ],
      "execution_count": 7,
      "outputs": [
        {
          "output_type": "stream",
          "text": [
            "                Open      High  ...  Volume_(Currency)  Weighted_Price\n",
            "Timestamp                       ...                                   \n",
            "2011-12-31  4.465000  4.482500  ...         106.330084        4.471603\n",
            "2012-01-01  4.806667  4.806667  ...          35.259720        4.806667\n",
            "2012-01-02  5.000000  5.000000  ...          95.240000        5.000000\n",
            "2012-01-03  5.252500  5.252500  ...          58.100651        5.252500\n",
            "2012-01-04  5.200000  5.223333  ...          63.119577        5.208159\n",
            "\n",
            "[5 rows x 7 columns]\n",
            "Open                 0\n",
            "High                 0\n",
            "Low                  0\n",
            "Close                0\n",
            "Volume_(BTC)         0\n",
            "Volume_(Currency)    0\n",
            "Weighted_Price       0\n",
            "dtype: int64\n"
          ],
          "name": "stdout"
        }
      ]
    },
    {
      "cell_type": "markdown",
      "metadata": {
        "id": "8ch2bHcnsB3W"
      },
      "source": [
        "#### Plot time series"
      ]
    },
    {
      "cell_type": "code",
      "metadata": {
        "colab": {
          "base_uri": "https://localhost:8080/",
          "height": 293
        },
        "id": "cIrWh7m4rjHZ",
        "outputId": "60f0c9ea-edad-4fbd-a5f9-672be0bb4d6d"
      },
      "source": [
        "btc_daily.plot()\n",
        "plt.plot()"
      ],
      "execution_count": 10,
      "outputs": [
        {
          "output_type": "execute_result",
          "data": {
            "text/plain": [
              "[]"
            ]
          },
          "metadata": {
            "tags": []
          },
          "execution_count": 10
        },
        {
          "output_type": "display_data",
          "data": {
            "image/png": "[encoded data removed]",
            "text/plain": [
              "<Figure size 432x288 with 1 Axes>"
            ]
          },
          "metadata": {
            "tags": [],
            "needs_background": "light"
          }
        }
      ]
    }
  ]
}